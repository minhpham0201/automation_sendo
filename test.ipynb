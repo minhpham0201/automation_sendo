{
 "cells": [
  {
   "cell_type": "code",
   "execution_count": 2,
   "metadata": {},
   "outputs": [
    {
     "name": "stdout",
     "output_type": "stream",
     "text": [
      "['D:\\\\sendo\\\\Code\\\\Downloaded\\\\TMS\\\\202502_04_02_2025_10_32_32_420_export_ShipmentOG_minhptn.csv']\n"
     ]
    }
   ],
   "source": [
    "from constants.constant import DOWNLOAD_FOLDER_TMS, SHIPMENT_FOLDER, TRIP_FOLDER\n",
    "import os\n",
    "import glob\n",
    "import datetime\n",
    "\n",
    "pattern = os.path.join(DOWNLOAD_FOLDER_TMS, '*ShipmentOG*.csv')\n",
    "shipment_files = glob.glob(pattern)\n",
    "print(shipment_files)"
   ]
  },
  {
   "cell_type": "code",
   "execution_count": 2,
   "metadata": {},
   "outputs": [
    {
     "name": "stdout",
     "output_type": "stream",
     "text": [
      "collate shipment\n",
      "['D:\\\\sendo\\\\Code\\\\Downloaded\\\\TMS\\\\202501_04_01_2025_09_57_08_657_export_ShipmentOG_minhptn.csv']\n",
      "Found shipment file: D:\\sendo\\Code\\Downloaded\\TMS\\202501_04_01_2025_09_57_08_657_export_ShipmentOG_minhptn.csv\n",
      "Renamed file: D:\\sendo\\Code\\Downloaded\\TMS\\202501_04_01_2025_09_57_08_657_export_ShipmentOG_minhptn.csv to D:\\sendo\\analysis\\van_don\\today\\0301.csv\n"
     ]
    }
   ],
   "source": [
    "from modules.collate import collate_shipment\n",
    "\n",
    "collate_shipment(SHIPMENT_FOLDER)"
   ]
  },
  {
   "cell_type": "code",
   "execution_count": 3,
   "metadata": {},
   "outputs": [],
   "source": [
    "if not shipment_files:\n",
    "    print(\"No shipment files found.\")\n",
    "    "
   ]
  },
  {
   "cell_type": "code",
   "execution_count": 3,
   "metadata": {},
   "outputs": [],
   "source": [
    "incomplete_files = [f for f in os.listdir(DOWNLOAD_FOLDER_TMS) if f.endswith(\".crdownload\")]"
   ]
  },
  {
   "cell_type": "code",
   "execution_count": 10,
   "metadata": {},
   "outputs": [
    {
     "name": "stdout",
     "output_type": "stream",
     "text": [
      "clear row 1\n"
     ]
    }
   ],
   "source": [
    "import time\n",
    "import win32com.client\n",
    "\n",
    "def process_csv_file_with_excel(file_path):\n",
    "    # Open Excel using the COM interface\n",
    "    excel = win32com.client.Dispatch(\"Excel.Application\")\n",
    "    excel.Visible = False\n",
    "\n",
    "    # Open the CSV file as an Excel workbook\n",
    "    workbook = excel.Workbooks.Open(file_path)\n",
    "    sheet = workbook.Sheets(1)\n",
    "\n",
    "    # Step 1: Delete the first row\n",
    "    sheet.Rows(1).Delete()\n",
    "    print('clear row 1')\n",
    "    time.sleep(3)\n",
    "    \n",
    "    # Step 2: Clear all contents in column Z\n",
    "    sheet.Columns(26).ClearContents() \n",
    "\n",
    "    # Step 3: Write \"Ghi chú\" into the first row, column Z\n",
    "    sheet.Cells(1, 26).Value = \"Ghi chú\"\n",
    "\n",
    "    # Step 4: Save and close the workbook\n",
    "    workbook.Save() # FileFormat=6 ensures saving as a CSV\n",
    "    workbook.Close(False)\n",
    "    excel.Quit()\n",
    "\n",
    "\n",
    "# Example usage\n",
    "file_path = r\"D:\\sendo\\analysis\\van_don\\today\\0401.csv\"\n",
    "process_csv_file_with_excel(file_path)\n"
   ]
  },
  {
   "cell_type": "code",
   "execution_count": 7,
   "metadata": {},
   "outputs": [
    {
     "data": {
      "text/plain": [
       "datetime.datetime(2025, 2, 4, 22, 37, 47, 654677)"
      ]
     },
     "execution_count": 7,
     "metadata": {},
     "output_type": "execute_result"
    }
   ],
   "source": [
    "from datetime import datetime, timedelta\n",
    "datetime.now()"
   ]
  },
  {
   "cell_type": "code",
   "execution_count": 8,
   "metadata": {},
   "outputs": [],
   "source": [
    "def collate_trip(destination_dir):\n",
    "    print('collate trip')\n",
    "    current_dir = DOWNLOAD_FOLDER_TMS\n",
    "\n",
    "    now = datetime.now()\n",
    "    date_str = now.strftime('%Y%m')\n",
    "\n",
    "    pattern = os.path.join(current_dir, '*Trip*.csv')\n",
    "    trip_files = glob.glob(pattern)\n",
    "\n",
    "    # Assuming you are processing only the first file found\n",
    "    trip_file = trip_files[-1]\n",
    "    print(f\"Found trip file: {trip_file}\")\n",
    "\n",
    "    # Define the new file name\n",
    "    new_file_name = f\"{date_str}.csv\"\n",
    "    new_file_path = os.path.join(destination_dir, new_file_name)\n",
    "\n",
    "    # Check if the file already exists in the destination directory\n",
    "    if os.path.exists(new_file_path):\n",
    "        print(f\"File already exists. Replacing: {new_file_path}\")\n",
    "        os.replace(trip_file, new_file_path)  # Overwrite the file\n",
    "    else:\n",
    "        print(f\"File does not exist. Renaming to: {new_file_path}\")\n",
    "        os.rename(trip_file, new_file_path)  # Rename the file\n",
    "\n",
    "    print(f\"Operation complete: {trip_file} -> {new_file_path}\")"
   ]
  },
  {
   "cell_type": "code",
   "execution_count": 10,
   "metadata": {},
   "outputs": [
    {
     "name": "stdout",
     "output_type": "stream",
     "text": [
      "collate trip\n",
      "Found trip file: D:\\sendo\\Code\\Downloaded\\TMS\\202502_04_02_2025_10_32_51_854_export_Trip_minhptn.csv\n",
      "File does not exist. Renaming to: D:\\sendo\\analysis\\chuyen_xe\\raw_data\\a\\202502.csv\n",
      "Operation complete: D:\\sendo\\Code\\Downloaded\\TMS\\202502_04_02_2025_10_32_51_854_export_Trip_minhptn.csv -> D:\\sendo\\analysis\\chuyen_xe\\raw_data\\a\\202502.csv\n"
     ]
    }
   ],
   "source": [
    "collate_trip(r'D:\\sendo\\analysis\\chuyen_xe\\raw_data\\a')"
   ]
  }
 ],
 "metadata": {
  "kernelspec": {
   "display_name": "Python 3",
   "language": "python",
   "name": "python3"
  },
  "language_info": {
   "codemirror_mode": {
    "name": "ipython",
    "version": 3
   },
   "file_extension": ".py",
   "mimetype": "text/x-python",
   "name": "python",
   "nbconvert_exporter": "python",
   "pygments_lexer": "ipython3",
   "version": "3.11.2"
  }
 },
 "nbformat": 4,
 "nbformat_minor": 2
}
